{
 "cells": [
  {
   "cell_type": "code",
   "execution_count": 1,
   "metadata": {
    "ExecuteTime": {
     "end_time": "2021-08-15T06:49:23.796262Z",
     "start_time": "2021-08-15T06:49:21.034207Z"
    }
   },
   "outputs": [],
   "source": [
    "from sklearn.model_selection import train_test_split, cross_validate\n",
    "from sklearn.metrics import accuracy_score, precision_score, recall_score, f1_score\n",
    "from sklearn.metrics import mean_squared_log_error, mean_squared_error,  r2_score, mean_absolute_error\n",
    "from sklearn.model_selection import GridSearchCV\n",
    "from sklearn.model_selection import KFold\n",
    "from sklearn.ensemble import RandomForestClassifier, GradientBoostingClassifier\n",
    "from sklearn.naive_bayes import GaussianNB\n",
    "from sklearn.tree import DecisionTreeClassifier\n",
    "from sklearn.svm import LinearSVC, SVC\n",
    "from sklearn.neighbors import KNeighborsClassifier\n",
    "from sklearn.linear_model import LogisticRegression\n",
    "from xgboost import XGBRegressor\n",
    "from sklearn.ensemble import RandomForestRegressor, BaggingRegressor, GradientBoostingRegressor, AdaBoostRegressor\n",
    "from sklearn.tree import DecisionTreeRegressor\n",
    "from sklearn.svm import SVR\n",
    "from sklearn.neighbors import KNeighborsRegressor\n",
    "from sklearn.kernel_ridge import KernelRidge\n",
    "from sklearn.linear_model import LinearRegression, Ridge, Lasso, ElasticNet\n",
    "from scipy import stats\n",
    "from statsmodels.stats.outliers_influence import variance_inflation_factor\n",
    "import statsmodels.formula.api as smf\n",
    "import statsmodels.tsa.api as smt\n",
    "import statsmodels.api as sm\n",
    "from sklearn.preprocessing import StandardScaler, MinMaxScaler, RobustScaler, Normalizer\n",
    "import seaborn as sns\n",
    "import matplotlib.pyplot as plt\n",
    "from tqdm import tqdm\n",
    "import numpy as np\n",
    "import pandas as pd\n",
    "import os\n",
    "import warnings\n",
    "\n",
    "warnings.filterwarnings(\"ignore\")\n",
    "\n",
    "pd.options.display.float_format = \"{:,.2f}\".format\n",
    "pd.options.display.max_rows = 50\n",
    "pd.options.display.max_columns = 40"
   ]
  },
  {
   "cell_type": "code",
   "execution_count": 2,
   "metadata": {
    "ExecuteTime": {
     "end_time": "2021-08-15T06:49:31.337582Z",
     "start_time": "2021-08-15T06:49:31.283726Z"
    }
   },
   "outputs": [],
   "source": [
    "raw_data = pd.read_csv(\"./Data/BikeSharingDemand/Bike_Sharing_Demand_Full.csv\")"
   ]
  },
  {
   "cell_type": "code",
   "execution_count": 13,
   "metadata": {
    "ExecuteTime": {
     "end_time": "2021-08-15T07:41:03.231831Z",
     "start_time": "2021-08-15T07:41:03.126311Z"
    },
    "code_folding": [
     0,
     8,
     67,
     77,
     90,
     97
    ]
   },
   "outputs": [],
   "source": [
    "def non_feature_engineering(data):\n",
    "    data = raw_data\n",
    "    data[\"datetime\"] = pd.to_datetime(data[\"datetime\"])\n",
    "    data = data.set_index(\"datetime\", drop=False)\n",
    "    # Set frequency\n",
    "    data = data.asfreq(\"H\", method=\"ffill\")\n",
    "    return data\n",
    "\n",
    "def feature_engineering(data):\n",
    "    data = non_feature_engineering(raw_data)\n",
    "    \n",
    "    # Split dataset as Trend + Seasonal + Residual\n",
    "    decomp = sm.tsa.seasonal_decompose(data[\"count\"], model=\"additive\")\n",
    "\n",
    "    y_trend = pd.DataFrame(decomp.trend)\n",
    "    y_trend.columns = [\"count_trend\"]\n",
    "    y_trend.fillna(method=\"ffill\", inplace=True)\n",
    "    y_trend.fillna(method=\"bfill\", inplace=True)\n",
    "\n",
    "    y_seasonal = pd.DataFrame(decomp.seasonal)\n",
    "    y_seasonal.columns = [\"count_seasonal\"]\n",
    "    y_seasonal.fillna(method=\"ffill\", inplace=True)\n",
    "    y_seasonal.fillna(method=\"bfill\", inplace=True)\n",
    "\n",
    "    data = pd.concat([data, y_trend, y_seasonal], axis=1)\n",
    "    \n",
    "    # Add moving average\n",
    "    y_roll_day = data[[\"count\"]].rolling(24).mean()\n",
    "    y_roll_day.columns = [\"count_day\"]\n",
    "    y_roll_day.fillna(method=\"ffill\", inplace=True)\n",
    "    y_roll_day.fillna(method=\"bfill\", inplace=True)\n",
    "\n",
    "    y_roll_week = data[[\"count\"]].rolling(24*7).mean()\n",
    "    y_roll_week.columns = [\"count_week\"]\n",
    "    y_roll_week.fillna(method=\"ffill\", inplace=True)\n",
    "    y_roll_week.fillna(method=\"bfill\", inplace=True)\n",
    "\n",
    "    data = pd.concat([data, y_roll_day, y_roll_week], axis=1)\n",
    "    \n",
    "    # Add difference\n",
    "    y_diff = data[[\"count\"]].diff()\n",
    "    y_diff.columns = [\"count_diff\"]\n",
    "    y_diff = y_diff.fillna(method=\"ffill\")\n",
    "    y_diff = y_diff.fillna(method=\"bfill\")\n",
    "    data = pd.concat([data, y_diff], axis=1)\n",
    "    \n",
    "    # Add categorical variables\n",
    "    data[\"year\"] = data[\"datetime\"].dt.year\n",
    "    data[\"Q\"] = data[\"datetime\"].dt.quarter\n",
    "    data[\"Q2\"] = data[\"Q\"]*(data[\"year\"] - data[\"year\"].min() + 1)\n",
    "    data[\"month\"] = data[\"datetime\"].dt.month\n",
    "    data[\"day\"] = data[\"datetime\"].dt.day\n",
    "    data[\"hour\"] = data[\"datetime\"].dt.hour\n",
    "    data[\"dayofweek\"] = data[\"datetime\"].dt.dayofweek\n",
    "    \n",
    "    # Add lagged variables\n",
    "    data[\"count_lag1\"] = data[\"count\"].shift(1)\n",
    "    data[\"count_lag2\"] = data[\"count\"].shift(2)\n",
    "\n",
    "    data[\"count_lag1\"] = data[\"count_lag1\"].fillna(method=\"bfill\")\n",
    "    data[\"count_lag2\"] = data[\"count_lag2\"].fillna(method=\"bfill\")\n",
    "    \n",
    "    # Add dum variables\n",
    "    data = pd.concat([data, pd.get_dummies(data[\"Q\"], prefix=\"Q_dum\", drop_first=True)], axis=1)\n",
    "    data = data.drop([\"Q\"], axis=1)\n",
    "    return data\n",
    "\n",
    "def data_split(data, x_cols, y_cols, crit):\n",
    "    tr = data[data.index < crit]\n",
    "    test = data[data.index >= crit]\n",
    "    \n",
    "    x_tr = tr[x_cols]\n",
    "    y_tr = tr[y_cols]\n",
    "    x_te = test[x_cols]\n",
    "    y_te = test[y_cols]\n",
    "    return x_tr, y_tr, x_te, y_te\n",
    "\n",
    "def duplicate_values(data, target):\n",
    "    for col in target:\n",
    "        data.loc[\"2012-01-01\":\"2012-02-28\", col] = data.loc[\"2011-01-01\":\"2011-02-28\", col].values\n",
    "        data.loc[\"2012-03-01\":\"2012-12-31\", col] = data.loc[\"2011-03-01\":\"2011-12-31\", col].values\n",
    "        \n",
    "        # Perform linear interpolation\n",
    "        step = (data.loc[\"2011-03-01 00:00:00\", col] - data.loc[\"2011-02-28 23:00:00\", col])/25\n",
    "        values = np.arange(data.loc[\"2011-02-28 23:00:00\", col] + step, data.loc[\"2011-03-01 00:00:00\", col], step)\n",
    "        values = values[:24]\n",
    "        data.loc[\"2012-02-29\", col] = values\n",
    "    return data\n",
    "\n",
    "def modify_lag(x, y, lags):\n",
    "    for lag in lags:\n",
    "        col = f\"count_lag{lag}\"\n",
    "        x[col] = y.shift(lag).values\n",
    "        x[col].fillna(method=\"bfill\", inplace=True)\n",
    "    return x\n",
    "\n",
    "def scale_features(scaler, x_tr, x_te):\n",
    "    sc = scaler\n",
    "    sc.fit(x_tr)\n",
    "    x_tr_sc = pd.DataFrame(sc.transform(x_tr), index=x_tr.index, columns=x_tr.columns)\n",
    "    x_te_sc = pd.DataFrame(sc.transform(x_te), index=x_te.index, columns=x_te.columns)\n",
    "    return x_tr_sc, x_te_sc\n",
    "\n",
    "def evaluation(y, preds, graph_on=False):\n",
    "    mae = abs(y[\"count\"].values - preds).mean()\n",
    "    mse = ((y[\"count\"].values - preds)**2).mean()\n",
    "    mape = (abs(y[\"count\"].values - preds)/y[\"count\"].values*100).mean()\n",
    "    score = pd.DataFrame([mae, mse, mape], index=[\"mae\", \"mse\", \"mape\"], columns=[\"score\"]).T\n",
    "#     Residual = pd.DataFrame(y.values.flatten() - preds, index=y.index, columns=[\"Error\"])\n",
    "#     return score, Residual\n",
    "    return score"
   ]
  },
  {
   "cell_type": "code",
   "execution_count": 14,
   "metadata": {
    "ExecuteTime": {
     "end_time": "2021-08-15T07:41:03.788027Z",
     "start_time": "2021-08-15T07:41:03.502779Z"
    }
   },
   "outputs": [],
   "source": [
    "data_fe = feature_engineering(raw_data)\n",
    "\n",
    "y_cols = [\"count\"]\n",
    "x_cols = [x for x in data_fe.columns if x not in [\"datetime\", \"casual\", \"registered\"] + y_cols]\n",
    "x_tr, y_tr, x_te, y_te = data_split(data_fe, x_cols=x_cols, y_cols=y_cols, crit=\"2012-07-01\")\n",
    "\n",
    "target = [\"count_trend\", \"count_seasonal\", \"count_day\", \"count_week\", \"count_diff\"]\n",
    "data_fe = duplicate_values(data_fe, target)\n",
    "\n",
    "x_te = modify_lag(x_te, y_te, lags=[1, 2])\n",
    "\n",
    "x_tr, x_te = scale_features(RobustScaler(), x_tr, x_te)\n",
    "\n",
    "fit = sm.OLS(y_tr, x_tr).fit()\n",
    "preds_tr = fit.predict(x_tr).values\n",
    "preds_te = fit.predict(x_te).values"
   ]
  },
  {
   "cell_type": "code",
   "execution_count": 15,
   "metadata": {
    "ExecuteTime": {
     "end_time": "2021-08-15T07:41:04.190136Z",
     "start_time": "2021-08-15T07:41:04.095511Z"
    }
   },
   "outputs": [
    {
     "data": {
      "text/html": [
       "<div>\n",
       "<style scoped>\n",
       "    .dataframe tbody tr th:only-of-type {\n",
       "        vertical-align: middle;\n",
       "    }\n",
       "\n",
       "    .dataframe tbody tr th {\n",
       "        vertical-align: top;\n",
       "    }\n",
       "\n",
       "    .dataframe thead th {\n",
       "        text-align: right;\n",
       "    }\n",
       "</style>\n",
       "<table border=\"1\" class=\"dataframe\">\n",
       "  <thead>\n",
       "    <tr style=\"text-align: right;\">\n",
       "      <th></th>\n",
       "      <th>mae</th>\n",
       "      <th>mse</th>\n",
       "      <th>mape</th>\n",
       "    </tr>\n",
       "  </thead>\n",
       "  <tbody>\n",
       "    <tr>\n",
       "      <th>score</th>\n",
       "      <td>7.76</td>\n",
       "      <td>93.20</td>\n",
       "      <td>47.10</td>\n",
       "    </tr>\n",
       "  </tbody>\n",
       "</table>\n",
       "</div>"
      ],
      "text/plain": [
       "       mae   mse  mape\n",
       "score 7.76 93.20 47.10"
      ]
     },
     "execution_count": 15,
     "metadata": {},
     "output_type": "execute_result"
    }
   ],
   "source": [
    "evaluation(y_tr, preds_tr)"
   ]
  },
  {
   "cell_type": "markdown",
   "metadata": {},
   "source": [
    "# FE Effect by Top Agile Algorithms"
   ]
  },
  {
   "cell_type": "code",
   "execution_count": 16,
   "metadata": {
    "ExecuteTime": {
     "end_time": "2020-07-31T13:41:58.776789Z",
     "start_time": "2020-07-31T13:41:56.457987Z"
    }
   },
   "outputs": [
    {
     "data": {
      "text/html": [
       "<div>\n",
       "<style scoped>\n",
       "    .dataframe tbody tr th:only-of-type {\n",
       "        vertical-align: middle;\n",
       "    }\n",
       "\n",
       "    .dataframe tbody tr th {\n",
       "        vertical-align: top;\n",
       "    }\n",
       "\n",
       "    .dataframe thead th {\n",
       "        text-align: right;\n",
       "    }\n",
       "</style>\n",
       "<table border=\"1\" class=\"dataframe\">\n",
       "  <thead>\n",
       "    <tr style=\"text-align: right;\">\n",
       "      <th></th>\n",
       "      <th>MAE</th>\n",
       "      <th>MSE</th>\n",
       "      <th>MAPE</th>\n",
       "    </tr>\n",
       "  </thead>\n",
       "  <tbody>\n",
       "    <tr>\n",
       "      <th>Train</th>\n",
       "      <td>42.30</td>\n",
       "      <td>4,095.47</td>\n",
       "      <td>170.65</td>\n",
       "    </tr>\n",
       "    <tr>\n",
       "      <th>Test</th>\n",
       "      <td>149.49</td>\n",
       "      <td>43,966.29</td>\n",
       "      <td>301.65</td>\n",
       "    </tr>\n",
       "  </tbody>\n",
       "</table>\n",
       "</div>"
      ],
      "text/plain": [
       "         MAE       MSE   MAPE\n",
       "Train  42.30  4,095.47 170.65\n",
       "Test  149.49 43,966.29 301.65"
      ]
     },
     "metadata": {},
     "output_type": "display_data"
    }
   ],
   "source": [
    "# Raw Data\n",
    "# Tatget Setting\n",
    "X_train = X_train_rd.copy()\n",
    "X_test = X_test_rd.copy()\n",
    "Y_train = Y_train_rd.copy()\n",
    "\n",
    "# RandomForestRegressor\n",
    "\n",
    "fit_reg6 = RandomForestRegressor(n_estimators=100, random_state=123).fit(X_train, Y_train)\n",
    "pred_tr_reg6_feRSM = fit_reg6.predict(X_train)\n",
    "pred_te_reg6_feRSM = fit_reg6.predict(X_test)\n",
    "\n",
    "# Evaluation\n",
    "Score_reg6_feRSM, Resid_tr_reg6_feRSM, Resid_te_reg6_feRSM = evaluation_trte(Y_train_feR, pred_tr_reg6_feRSM,\n",
    "                                                                   Y_test_feR, pred_te_reg6_feRSM, graph_on=False)\n",
    "display(Score_reg6_feRSM)"
   ]
  },
  {
   "cell_type": "code",
   "execution_count": 17,
   "metadata": {
    "ExecuteTime": {
     "end_time": "2020-07-31T13:42:07.828593Z",
     "start_time": "2020-07-31T13:41:58.777786Z"
    }
   },
   "outputs": [
    {
     "data": {
      "text/html": [
       "<div>\n",
       "<style scoped>\n",
       "    .dataframe tbody tr th:only-of-type {\n",
       "        vertical-align: middle;\n",
       "    }\n",
       "\n",
       "    .dataframe tbody tr th {\n",
       "        vertical-align: top;\n",
       "    }\n",
       "\n",
       "    .dataframe thead th {\n",
       "        text-align: right;\n",
       "    }\n",
       "</style>\n",
       "<table border=\"1\" class=\"dataframe\">\n",
       "  <thead>\n",
       "    <tr style=\"text-align: right;\">\n",
       "      <th></th>\n",
       "      <th>MAE</th>\n",
       "      <th>MSE</th>\n",
       "      <th>MAPE</th>\n",
       "    </tr>\n",
       "  </thead>\n",
       "  <tbody>\n",
       "    <tr>\n",
       "      <th>Train</th>\n",
       "      <td>4.42</td>\n",
       "      <td>88.79</td>\n",
       "      <td>5.25</td>\n",
       "    </tr>\n",
       "    <tr>\n",
       "      <th>Test</th>\n",
       "      <td>80.77</td>\n",
       "      <td>15,453.91</td>\n",
       "      <td>62.90</td>\n",
       "    </tr>\n",
       "  </tbody>\n",
       "</table>\n",
       "</div>"
      ],
      "text/plain": [
       "        MAE       MSE  MAPE\n",
       "Train  4.42     88.79  5.25\n",
       "Test  80.77 15,453.91 62.90"
      ]
     },
     "metadata": {},
     "output_type": "display_data"
    }
   ],
   "source": [
    "# FE + Reality Data\n",
    "# Tatget Setting\n",
    "X_train = X_train_feR.copy()\n",
    "X_test = X_test_feR.copy()\n",
    "Y_train = Y_train_feR.copy()\n",
    "\n",
    "# RandomForestRegressor\n",
    "fit_reg6 = RandomForestRegressor(n_estimators=100, random_state=123).fit(X_train, Y_train)\n",
    "pred_tr_reg6_feRSM = fit_reg6.predict(X_train)\n",
    "pred_te_reg6_feRSM = fit_reg6.predict(X_test)\n",
    "\n",
    "# Evaluation\n",
    "Score_reg6_feRSM, Resid_tr_reg6_feRSM, Resid_te_reg6_feRSM = evaluation_trte(Y_train_feR, pred_tr_reg6_feRSM,\n",
    "                                                                   Y_test_feR, pred_te_reg6_feRSM, graph_on=False)\n",
    "display(Score_reg6_feRSM)"
   ]
  },
  {
   "cell_type": "code",
   "execution_count": 18,
   "metadata": {
    "ExecuteTime": {
     "end_time": "2020-07-31T13:42:22.961143Z",
     "start_time": "2020-07-31T13:42:07.829590Z"
    }
   },
   "outputs": [
    {
     "data": {
      "text/html": [
       "<div>\n",
       "<style scoped>\n",
       "    .dataframe tbody tr th:only-of-type {\n",
       "        vertical-align: middle;\n",
       "    }\n",
       "\n",
       "    .dataframe tbody tr th {\n",
       "        vertical-align: top;\n",
       "    }\n",
       "\n",
       "    .dataframe thead th {\n",
       "        text-align: right;\n",
       "    }\n",
       "</style>\n",
       "<table border=\"1\" class=\"dataframe\">\n",
       "  <thead>\n",
       "    <tr style=\"text-align: right;\">\n",
       "      <th></th>\n",
       "      <th>MAE</th>\n",
       "      <th>MSE</th>\n",
       "      <th>MAPE</th>\n",
       "    </tr>\n",
       "  </thead>\n",
       "  <tbody>\n",
       "    <tr>\n",
       "      <th>Train</th>\n",
       "      <td>4.56</td>\n",
       "      <td>92.38</td>\n",
       "      <td>5.50</td>\n",
       "    </tr>\n",
       "    <tr>\n",
       "      <th>Test</th>\n",
       "      <td>82.80</td>\n",
       "      <td>15,857.91</td>\n",
       "      <td>69.02</td>\n",
       "    </tr>\n",
       "  </tbody>\n",
       "</table>\n",
       "</div>"
      ],
      "text/plain": [
       "        MAE       MSE  MAPE\n",
       "Train  4.56     92.38  5.50\n",
       "Test  82.80 15,857.91 69.02"
      ]
     },
     "metadata": {},
     "output_type": "display_data"
    }
   ],
   "source": [
    "# FE + Reality + Scaling Data\n",
    "# Tatget Setting\n",
    "X_train = X_train_feRS.copy()\n",
    "X_test = X_test_feRS.copy()\n",
    "Y_train = Y_train_feR.copy()\n",
    "\n",
    "# RandomForestRegressor\n",
    "fit_reg6 = RandomForestRegressor(n_estimators=100, random_state=123).fit(X_train, Y_train)\n",
    "pred_tr_reg6_feRSM = fit_reg6.predict(X_train)\n",
    "pred_te_reg6_feRSM = fit_reg6.predict(X_test)\n",
    "\n",
    "# Evaluation\n",
    "Score_reg6_feRSM, Resid_tr_reg6_feRSM, Resid_te_reg6_feRSM = evaluation_trte(Y_train_feR, pred_tr_reg6_feRSM,\n",
    "                                                                   Y_test_feR, pred_te_reg6_feRSM, graph_on=False)\n",
    "display(Score_reg6_feRSM)"
   ]
  },
  {
   "cell_type": "code",
   "execution_count": 19,
   "metadata": {
    "ExecuteTime": {
     "end_time": "2020-07-31T13:42:30.926878Z",
     "start_time": "2020-07-31T13:42:22.962141Z"
    }
   },
   "outputs": [
    {
     "data": {
      "text/html": [
       "<div>\n",
       "<style scoped>\n",
       "    .dataframe tbody tr th:only-of-type {\n",
       "        vertical-align: middle;\n",
       "    }\n",
       "\n",
       "    .dataframe tbody tr th {\n",
       "        vertical-align: top;\n",
       "    }\n",
       "\n",
       "    .dataframe thead th {\n",
       "        text-align: right;\n",
       "    }\n",
       "</style>\n",
       "<table border=\"1\" class=\"dataframe\">\n",
       "  <thead>\n",
       "    <tr style=\"text-align: right;\">\n",
       "      <th></th>\n",
       "      <th>MAE</th>\n",
       "      <th>MSE</th>\n",
       "      <th>MAPE</th>\n",
       "    </tr>\n",
       "  </thead>\n",
       "  <tbody>\n",
       "    <tr>\n",
       "      <th>Train</th>\n",
       "      <td>6.54</td>\n",
       "      <td>123.38</td>\n",
       "      <td>9.11</td>\n",
       "    </tr>\n",
       "    <tr>\n",
       "      <th>Test</th>\n",
       "      <td>51.52</td>\n",
       "      <td>6,749.92</td>\n",
       "      <td>40.49</td>\n",
       "    </tr>\n",
       "  </tbody>\n",
       "</table>\n",
       "</div>"
      ],
      "text/plain": [
       "        MAE      MSE  MAPE\n",
       "Train  6.54   123.38  9.11\n",
       "Test  51.52 6,749.92 40.49"
      ]
     },
     "metadata": {},
     "output_type": "display_data"
    }
   ],
   "source": [
    "# FE + Reality + Scaling + Multicolinearity Data\n",
    "# Tatget Setting\n",
    "X_train = X_train_feRSM.copy()\n",
    "X_test = X_test_feRSM.copy()\n",
    "Y_train = Y_train_feR.copy()\n",
    "\n",
    "# RandomForestRegressor\n",
    "fit_reg6 = RandomForestRegressor(n_estimators=100, random_state=123).fit(X_train, Y_train)\n",
    "pred_tr_reg6_feRSM = fit_reg6.predict(X_train)\n",
    "pred_te_reg6_feRSM = fit_reg6.predict(X_test)\n",
    "\n",
    "# Evaluation\n",
    "Score_reg6_feRSM, Resid_tr_reg6_feRSM, Resid_te_reg6_feRSM = evaluation_trte(Y_train_feR, pred_tr_reg6_feRSM,\n",
    "                                                                   Y_test_feR, pred_te_reg6_feRSM, graph_on=False)\n",
    "display(Score_reg6_feRSM)"
   ]
  },
  {
   "cell_type": "code",
   "execution_count": 20,
   "metadata": {},
   "outputs": [
    {
     "data": {
      "text/plain": [
       "array([0.0817894 , 0.00109728, 0.46938415, 0.00365062, 0.00308757,\n",
       "       0.05487622, 0.05235716, 0.15952056, 0.00167149, 0.0226352 ,\n",
       "       0.03876463, 0.11116572])"
      ]
     },
     "execution_count": 20,
     "metadata": {},
     "output_type": "execute_result"
    }
   ],
   "source": [
    "fit_reg6.feature_importances_"
   ]
  },
  {
   "cell_type": "code",
   "execution_count": 21,
   "metadata": {
    "ExecuteTime": {
     "end_time": "2020-07-31T13:42:31.137287Z",
     "start_time": "2020-07-31T13:42:30.927847Z"
    }
   },
   "outputs": [
    {
     "data": {
      "text/html": [
       "<div>\n",
       "<style scoped>\n",
       "    .dataframe tbody tr th:only-of-type {\n",
       "        vertical-align: middle;\n",
       "    }\n",
       "\n",
       "    .dataframe tbody tr th {\n",
       "        vertical-align: top;\n",
       "    }\n",
       "\n",
       "    .dataframe thead th {\n",
       "        text-align: right;\n",
       "    }\n",
       "</style>\n",
       "<table border=\"1\" class=\"dataframe\">\n",
       "  <thead>\n",
       "    <tr style=\"text-align: right;\">\n",
       "      <th></th>\n",
       "      <th>importance</th>\n",
       "    </tr>\n",
       "  </thead>\n",
       "  <tbody>\n",
       "    <tr>\n",
       "      <th>count_seasonal</th>\n",
       "      <td>0.47</td>\n",
       "    </tr>\n",
       "    <tr>\n",
       "      <th>weather</th>\n",
       "      <td>0.16</td>\n",
       "    </tr>\n",
       "    <tr>\n",
       "      <th>count_lag2</th>\n",
       "      <td>0.11</td>\n",
       "    </tr>\n",
       "    <tr>\n",
       "      <th>count_diff</th>\n",
       "      <td>0.08</td>\n",
       "    </tr>\n",
       "    <tr>\n",
       "      <th>Quater_ver2</th>\n",
       "      <td>0.05</td>\n",
       "    </tr>\n",
       "    <tr>\n",
       "      <th>Hour</th>\n",
       "      <td>0.05</td>\n",
       "    </tr>\n",
       "    <tr>\n",
       "      <th>workingday</th>\n",
       "      <td>0.04</td>\n",
       "    </tr>\n",
       "    <tr>\n",
       "      <th>DayofWeek</th>\n",
       "      <td>0.02</td>\n",
       "    </tr>\n",
       "    <tr>\n",
       "      <th>Day</th>\n",
       "      <td>0.00</td>\n",
       "    </tr>\n",
       "    <tr>\n",
       "      <th>windspeed</th>\n",
       "      <td>0.00</td>\n",
       "    </tr>\n",
       "    <tr>\n",
       "      <th>Quater_Dummy_2</th>\n",
       "      <td>0.00</td>\n",
       "    </tr>\n",
       "    <tr>\n",
       "      <th>holiday</th>\n",
       "      <td>0.00</td>\n",
       "    </tr>\n",
       "  </tbody>\n",
       "</table>\n",
       "</div>"
      ],
      "text/plain": [
       "                importance\n",
       "count_seasonal        0.47\n",
       "weather               0.16\n",
       "count_lag2            0.11\n",
       "count_diff            0.08\n",
       "Quater_ver2           0.05\n",
       "Hour                  0.05\n",
       "workingday            0.04\n",
       "DayofWeek             0.02\n",
       "Day                   0.00\n",
       "windspeed             0.00\n",
       "Quater_Dummy_2        0.00\n",
       "holiday               0.00"
      ]
     },
     "metadata": {},
     "output_type": "display_data"
    },
    {
     "data": {
      "image/png": "[encoded data removed]",
      "text/plain": [
       "<Figure size 864x432 with 1 Axes>"
      ]
     },
     "metadata": {},
     "output_type": "display_data"
    }
   ],
   "source": [
    "# Prediction Effect of Variables\n",
    "Variable_Importances = pd.DataFrame([fit_reg6.feature_importances_], columns=X_train_feRSM.columns, index=['importance']).T.sort_values(by=['importance'], ascending=False)\n",
    "display(Variable_Importances)\n",
    "Variable_Importances.plot.bar(figsize=(12,6), fontsize=15)\n",
    "plt.title('Variable Importances', fontsize=15)\n",
    "plt.show()"
   ]
  },
  {
   "cell_type": "code",
   "execution_count": null,
   "metadata": {},
   "outputs": [],
   "source": []
  }
 ],
 "metadata": {
  "hide_input": false,
  "kernelspec": {
   "display_name": "Python 3",
   "language": "python",
   "name": "python3"
  },
  "language_info": {
   "codemirror_mode": {
    "name": "ipython",
    "version": 3
   },
   "file_extension": ".py",
   "mimetype": "text/x-python",
   "name": "python",
   "nbconvert_exporter": "python",
   "pygments_lexer": "ipython3",
   "version": "3.8.5"
  },
  "toc": {
   "base_numbering": 1,
   "nav_menu": {},
   "number_sections": true,
   "sideBar": true,
   "skip_h1_title": false,
   "title_cell": "Table of Contents",
   "title_sidebar": "Contents",
   "toc_cell": false,
   "toc_position": {
    "height": "calc(100% - 180px)",
    "left": "10px",
    "top": "150px",
    "width": "407px"
   },
   "toc_section_display": true,
   "toc_window_display": false
  },
  "toc-autonumbering": true,
  "varInspector": {
   "cols": {
    "lenName": 16,
    "lenType": 16,
    "lenVar": 40
   },
   "kernels_config": {
    "python": {
     "delete_cmd_postfix": "",
     "delete_cmd_prefix": "del ",
     "library": "var_list.py",
     "varRefreshCmd": "print(var_dic_list())"
    },
    "r": {
     "delete_cmd_postfix": ") ",
     "delete_cmd_prefix": "rm(",
     "library": "var_list.r",
     "varRefreshCmd": "cat(var_dic_list()) "
    }
   },
   "types_to_exclude": [
    "module",
    "function",
    "builtin_function_or_method",
    "instance",
    "_Feature"
   ],
   "window_display": false
  }
 },
 "nbformat": 4,
 "nbformat_minor": 4
}
